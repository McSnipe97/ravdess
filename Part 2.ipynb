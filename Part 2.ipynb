{
 "cells": [
  {
   "cell_type": "markdown",
   "metadata": {},
   "source": [
    "# Part 2 of RAVDESS Emotional Speech Recognition project by Anuj Soni (mcsnipe97)\n",
    "\n",
    "## Preprocesssing\n",
    "---\n",
    "In this ipynb, we will calculate the mfccs of each audio file and save them to csv file to use for model training and testing."
   ]
  },
  {
   "cell_type": "code",
   "execution_count": 8,
   "metadata": {},
   "outputs": [],
   "source": [
    "import pandas as pd\n",
    "import librosa\n",
    "import librosa.display\n",
    "import numpy as np"
   ]
  },
  {
   "cell_type": "code",
   "execution_count": 9,
   "metadata": {},
   "outputs": [
    {
     "data": {
      "text/html": [
       "<div>\n",
       "<style scoped>\n",
       "    .dataframe tbody tr th:only-of-type {\n",
       "        vertical-align: middle;\n",
       "    }\n",
       "\n",
       "    .dataframe tbody tr th {\n",
       "        vertical-align: top;\n",
       "    }\n",
       "\n",
       "    .dataframe thead th {\n",
       "        text-align: right;\n",
       "    }\n",
       "</style>\n",
       "<table border=\"1\" class=\"dataframe\">\n",
       "  <thead>\n",
       "    <tr style=\"text-align: right;\">\n",
       "      <th></th>\n",
       "      <th>labels</th>\n",
       "      <th>source</th>\n",
       "      <th>path</th>\n",
       "    </tr>\n",
       "  </thead>\n",
       "  <tbody>\n",
       "    <tr>\n",
       "      <th>0</th>\n",
       "      <td>male_neutral</td>\n",
       "      <td>RAVDESS</td>\n",
       "      <td>data\\audio_speech_actors_01-24\\Actor_01\\03-01-...</td>\n",
       "    </tr>\n",
       "    <tr>\n",
       "      <th>1</th>\n",
       "      <td>male_neutral</td>\n",
       "      <td>RAVDESS</td>\n",
       "      <td>data\\audio_speech_actors_01-24\\Actor_01\\03-01-...</td>\n",
       "    </tr>\n",
       "    <tr>\n",
       "      <th>2</th>\n",
       "      <td>male_neutral</td>\n",
       "      <td>RAVDESS</td>\n",
       "      <td>data\\audio_speech_actors_01-24\\Actor_01\\03-01-...</td>\n",
       "    </tr>\n",
       "    <tr>\n",
       "      <th>3</th>\n",
       "      <td>male_neutral</td>\n",
       "      <td>RAVDESS</td>\n",
       "      <td>data\\audio_speech_actors_01-24\\Actor_01\\03-01-...</td>\n",
       "    </tr>\n",
       "    <tr>\n",
       "      <th>4</th>\n",
       "      <td>male_neutral</td>\n",
       "      <td>RAVDESS</td>\n",
       "      <td>data\\audio_speech_actors_01-24\\Actor_01\\03-01-...</td>\n",
       "    </tr>\n",
       "  </tbody>\n",
       "</table>\n",
       "</div>"
      ],
      "text/plain": [
       "         labels   source                                               path\n",
       "0  male_neutral  RAVDESS  data\\audio_speech_actors_01-24\\Actor_01\\03-01-...\n",
       "1  male_neutral  RAVDESS  data\\audio_speech_actors_01-24\\Actor_01\\03-01-...\n",
       "2  male_neutral  RAVDESS  data\\audio_speech_actors_01-24\\Actor_01\\03-01-...\n",
       "3  male_neutral  RAVDESS  data\\audio_speech_actors_01-24\\Actor_01\\03-01-...\n",
       "4  male_neutral  RAVDESS  data\\audio_speech_actors_01-24\\Actor_01\\03-01-..."
      ]
     },
     "execution_count": 9,
     "metadata": {},
     "output_type": "execute_result"
    }
   ],
   "source": [
    "rav_df = pd.read_csv('pathData.csv')\n",
    "rav_df.head()"
   ]
  },
  {
   "cell_type": "code",
   "execution_count": 10,
   "metadata": {},
   "outputs": [
    {
     "data": {
      "text/html": [
       "<div>\n",
       "<style scoped>\n",
       "    .dataframe tbody tr th:only-of-type {\n",
       "        vertical-align: middle;\n",
       "    }\n",
       "\n",
       "    .dataframe tbody tr th {\n",
       "        vertical-align: top;\n",
       "    }\n",
       "\n",
       "    .dataframe thead th {\n",
       "        text-align: right;\n",
       "    }\n",
       "</style>\n",
       "<table border=\"1\" class=\"dataframe\">\n",
       "  <thead>\n",
       "    <tr style=\"text-align: right;\">\n",
       "      <th></th>\n",
       "      <th>feature</th>\n",
       "    </tr>\n",
       "  </thead>\n",
       "  <tbody>\n",
       "    <tr>\n",
       "      <th>0</th>\n",
       "      <td>[-65.80097, -65.80097, -65.80097, -65.80097, -...</td>\n",
       "    </tr>\n",
       "    <tr>\n",
       "      <th>1</th>\n",
       "      <td>[-61.84994, -62.89504, -63.830635, -60.552586,...</td>\n",
       "    </tr>\n",
       "    <tr>\n",
       "      <th>2</th>\n",
       "      <td>[-65.81886, -65.81886, -65.81886, -65.81886, -...</td>\n",
       "    </tr>\n",
       "    <tr>\n",
       "      <th>3</th>\n",
       "      <td>[-66.05848, -66.05848, -66.05848, -66.05848, -...</td>\n",
       "    </tr>\n",
       "    <tr>\n",
       "      <th>4</th>\n",
       "      <td>[-70.26777, -70.26777, -70.26777, -70.26777, -...</td>\n",
       "    </tr>\n",
       "  </tbody>\n",
       "</table>\n",
       "</div>"
      ],
      "text/plain": [
       "                                             feature\n",
       "0  [-65.80097, -65.80097, -65.80097, -65.80097, -...\n",
       "1  [-61.84994, -62.89504, -63.830635, -60.552586,...\n",
       "2  [-65.81886, -65.81886, -65.81886, -65.81886, -...\n",
       "3  [-66.05848, -66.05848, -66.05848, -66.05848, -...\n",
       "4  [-70.26777, -70.26777, -70.26777, -70.26777, -..."
      ]
     },
     "execution_count": 10,
     "metadata": {},
     "output_type": "execute_result"
    }
   ],
   "source": [
    "#Takes a while to extract features from all files AND append them to a dataframe `df`.\n",
    "\n",
    "df = pd.DataFrame(columns = ['feature'])\n",
    "\n",
    "counter = 0\n",
    "for index, path in enumerate(rav_df.path):\n",
    "    X, sample_rate = librosa.load(path, res_type='kaiser_fast', duration=2.5, sr = 44100, offset = 0.5)\n",
    "    sample_rate = np.array(sample_rate)\n",
    "    \n",
    "    mfccs = np.mean(librosa.feature.mfcc(y=X, sr = sample_rate, n_mfcc = 13), axis=0)\n",
    "    df.loc[counter] = [mfccs]\n",
    "    counter+=1"
   ]
  },
  {
   "cell_type": "code",
   "execution_count": 13,
   "metadata": {},
   "outputs": [],
   "source": [
    "df = pd.concat([rav_df, pd.DataFrame(df['feature'].values.tolist())], axis=1)"
   ]
  },
  {
   "cell_type": "code",
   "execution_count": 15,
   "metadata": {},
   "outputs": [],
   "source": [
    "df.to_csv('pathFeature.csv')"
   ]
  }
 ],
 "metadata": {
  "kernelspec": {
   "display_name": "Python 3.7 (tensorflow-gpu)",
   "language": "python",
   "name": "tf-gpu"
  },
  "language_info": {
   "codemirror_mode": {
    "name": "ipython",
    "version": 3
   },
   "file_extension": ".py",
   "mimetype": "text/x-python",
   "name": "python",
   "nbconvert_exporter": "python",
   "pygments_lexer": "ipython3",
   "version": "3.7.7"
  }
 },
 "nbformat": 4,
 "nbformat_minor": 4
}
